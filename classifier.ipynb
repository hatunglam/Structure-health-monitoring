{
 "cells": [
  {
   "cell_type": "code",
   "execution_count": 92,
   "metadata": {},
   "outputs": [],
   "source": [
    "import numpy as np\n",
    "import pandas as pd\n",
    "import h5py\n",
    "import dask.array as da\n",
    "import dask.dataframe as dd\n",
    "import dask\n",
    "\n",
    "file = '../../data/pair3.mat'\n",
    "\n",
    "f = h5py.File(file, 'r')\n",
    "\n",
    "trace = f['s_traces']\n",
    "trace_T = trace[:].T\n",
    "s_traces = da.from_array(trace_T, chunks=(10000, 10000))\n",
    "\n",
    "s_traces_real = s_traces['real']  \n",
    "s_traces_imag = s_traces['imag']"
   ]
  },
  {
   "cell_type": "code",
   "execution_count": 93,
   "metadata": {},
   "outputs": [
    {
     "data": {
      "text/plain": [
       "array([[ 2.66330160e-04,  3.39474429e-04,  3.97195029e-04, ...,\n",
       "         0.00000000e+00,  0.00000000e+00,  0.00000000e+00],\n",
       "       [-1.94677905e-04, -1.03788556e-04, -8.09854021e-06, ...,\n",
       "         0.00000000e+00,  0.00000000e+00,  0.00000000e+00],\n",
       "       [ 3.30216397e-04,  2.94542204e-04,  2.29296368e-04, ...,\n",
       "         0.00000000e+00,  0.00000000e+00,  0.00000000e+00],\n",
       "       ...,\n",
       "       [ 5.72209317e-04,  3.19251547e-04, -8.44281070e-06, ...,\n",
       "         0.00000000e+00,  0.00000000e+00,  0.00000000e+00],\n",
       "       [ 3.32511855e-04,  1.84027406e-04, -1.78084588e-05, ...,\n",
       "         0.00000000e+00,  0.00000000e+00,  0.00000000e+00],\n",
       "       [ 1.23385214e-04,  4.26125738e-05, -8.57108244e-05, ...,\n",
       "         0.00000000e+00,  0.00000000e+00,  0.00000000e+00]])"
      ]
     },
     "execution_count": 93,
     "metadata": {},
     "output_type": "execute_result"
    }
   ],
   "source": [
    "s_traces_real.compute()"
   ]
  },
  {
   "cell_type": "code",
   "execution_count": 94,
   "metadata": {},
   "outputs": [],
   "source": [
    "from datetime import timedelta, datetime\n",
    "\n",
    "with h5py.File(file, \"r\") as mat_file:\n",
    "    s_dates = mat_file[\"s_dates\"][:]  \n",
    "s_dates = s_dates.flatten()\n",
    "\n",
    "def datenum_to_datetime(datenum):\n",
    "    \"\"\"\n",
    "    Convert Matlab datenum into Python datetime.\n",
    "    :param datenum: Date in datenum format\n",
    "    :return:        Datetime object corresponding to datenum.\n",
    "    \"\"\"\n",
    "    days = datenum % 1\n",
    "    python_date = datetime.fromordinal(int(datenum)) \\\n",
    "           + timedelta(days=days) \\\n",
    "           - timedelta(days=366)\n",
    "    \n",
    "    if python_date.second > 30:\n",
    "        python_date = python_date + timedelta(minutes=1)  \n",
    "        python_date = python_date.replace(second=0)  \n",
    "\n",
    "    return python_date.strftime(\"%Y-%m-%d-%H-%M\")\n",
    "\n",
    "s_dates_to_python = np.array([datenum_to_datetime(d) for d in s_dates])\n",
    "s_dates_df = pd.DataFrame(s_dates_to_python, columns= ['date'])"
   ]
  },
  {
   "cell_type": "code",
   "execution_count": 95,
   "metadata": {},
   "outputs": [
    {
     "data": {
      "text/html": [
       "<div>\n",
       "<style scoped>\n",
       "    .dataframe tbody tr th:only-of-type {\n",
       "        vertical-align: middle;\n",
       "    }\n",
       "\n",
       "    .dataframe tbody tr th {\n",
       "        vertical-align: top;\n",
       "    }\n",
       "\n",
       "    .dataframe thead th {\n",
       "        text-align: right;\n",
       "    }\n",
       "</style>\n",
       "<table border=\"1\" class=\"dataframe\">\n",
       "  <thead>\n",
       "    <tr style=\"text-align: right;\">\n",
       "      <th></th>\n",
       "      <th>date</th>\n",
       "    </tr>\n",
       "  </thead>\n",
       "  <tbody>\n",
       "    <tr>\n",
       "      <th>0</th>\n",
       "      <td>2012-01-04-09-28</td>\n",
       "    </tr>\n",
       "    <tr>\n",
       "      <th>1</th>\n",
       "      <td>2012-01-04-09-49</td>\n",
       "    </tr>\n",
       "    <tr>\n",
       "      <th>2</th>\n",
       "      <td>2012-01-04-10-27</td>\n",
       "    </tr>\n",
       "    <tr>\n",
       "      <th>3</th>\n",
       "      <td>2012-01-04-11-05</td>\n",
       "    </tr>\n",
       "    <tr>\n",
       "      <th>4</th>\n",
       "      <td>2012-01-04-11-13</td>\n",
       "    </tr>\n",
       "    <tr>\n",
       "      <th>...</th>\n",
       "      <td>...</td>\n",
       "    </tr>\n",
       "    <tr>\n",
       "      <th>76675</th>\n",
       "      <td>2021-06-08-10-06</td>\n",
       "    </tr>\n",
       "    <tr>\n",
       "      <th>76676</th>\n",
       "      <td>2021-06-08-10-08</td>\n",
       "    </tr>\n",
       "    <tr>\n",
       "      <th>76677</th>\n",
       "      <td>2021-06-08-10-10</td>\n",
       "    </tr>\n",
       "    <tr>\n",
       "      <th>76678</th>\n",
       "      <td>2021-06-08-10-11</td>\n",
       "    </tr>\n",
       "    <tr>\n",
       "      <th>76679</th>\n",
       "      <td>2021-06-08-10-13</td>\n",
       "    </tr>\n",
       "  </tbody>\n",
       "</table>\n",
       "<p>76680 rows × 1 columns</p>\n",
       "</div>"
      ],
      "text/plain": [
       "                   date\n",
       "0      2012-01-04-09-28\n",
       "1      2012-01-04-09-49\n",
       "2      2012-01-04-10-27\n",
       "3      2012-01-04-11-05\n",
       "4      2012-01-04-11-13\n",
       "...                 ...\n",
       "76675  2021-06-08-10-06\n",
       "76676  2021-06-08-10-08\n",
       "76677  2021-06-08-10-10\n",
       "76678  2021-06-08-10-11\n",
       "76679  2021-06-08-10-13\n",
       "\n",
       "[76680 rows x 1 columns]"
      ]
     },
     "execution_count": 95,
     "metadata": {},
     "output_type": "execute_result"
    }
   ],
   "source": [
    "s_dates_df"
   ]
  },
  {
   "cell_type": "code",
   "execution_count": 96,
   "metadata": {},
   "outputs": [],
   "source": [
    "def get_index(time, date_df):\n",
    "    return date_df[date_df['date'].isin(time)].index.to_numpy()"
   ]
  },
  {
   "cell_type": "code",
   "execution_count": 97,
   "metadata": {},
   "outputs": [
    {
     "name": "stderr",
     "output_type": "stream",
     "text": [
      "C:\\Users\\qq24422\\AppData\\Local\\Temp\\ipykernel_17140\\4076537246.py:1: DeprecationWarning: Conversion of an array with ndim > 0 to a scalar is deprecated, and will error in future. Ensure you extract a single element from your array before performing this operation. (Deprecated NumPy 1.25.)\n",
      "  defect_pos = int(get_index(['2021-06-08-09-15'], s_dates_df))\n"
     ]
    },
    {
     "data": {
      "text/plain": [
       "76650"
      ]
     },
     "execution_count": 97,
     "metadata": {},
     "output_type": "execute_result"
    }
   ],
   "source": [
    "defect_pos = int(get_index(['2021-06-08-09-15'], s_dates_df))\n",
    "defect_pos"
   ]
  },
  {
   "cell_type": "code",
   "execution_count": 111,
   "metadata": {},
   "outputs": [
    {
     "data": {
      "text/plain": [
       "30"
      ]
     },
     "execution_count": 111,
     "metadata": {},
     "output_type": "execute_result"
    }
   ],
   "source": [
    "len(s_traces_real) - 76650"
   ]
  },
  {
   "cell_type": "code",
   "execution_count": 105,
   "metadata": {},
   "outputs": [],
   "source": [
    "def add_label(df, defect_id):\n",
    "    \n",
    "    m = len(df)\n",
    "    y = np.zeros(m)\n",
    "    y[defect_id:] = 1\n",
    "    yint = y.astype(int)\n",
    "\n",
    "    return yint"
   ]
  },
  {
   "cell_type": "code",
   "execution_count": null,
   "metadata": {},
   "outputs": [
    {
     "data": {
      "text/plain": [
       "array([0, 0, 0, ..., 1, 1, 1])"
      ]
     },
     "execution_count": 110,
     "metadata": {},
     "output_type": "execute_result"
    }
   ],
   "source": [
    "y = add_label(s_traces_real, defect_pos)\n",
    "y"
   ]
  },
  {
   "cell_type": "code",
   "execution_count": 109,
   "metadata": {},
   "outputs": [
    {
     "data": {
      "text/plain": [
       "array([[ 2.66330160e-04,  3.39474429e-04,  3.97195029e-04, ...,\n",
       "         0.00000000e+00,  0.00000000e+00,  0.00000000e+00],\n",
       "       [-1.94677905e-04, -1.03788556e-04, -8.09854021e-06, ...,\n",
       "         0.00000000e+00,  0.00000000e+00,  0.00000000e+00],\n",
       "       [ 3.30216397e-04,  2.94542204e-04,  2.29296368e-04, ...,\n",
       "         0.00000000e+00,  0.00000000e+00,  0.00000000e+00],\n",
       "       ...,\n",
       "       [ 5.72209317e-04,  3.19251547e-04, -8.44281070e-06, ...,\n",
       "         0.00000000e+00,  0.00000000e+00,  0.00000000e+00],\n",
       "       [ 3.32511855e-04,  1.84027406e-04, -1.78084588e-05, ...,\n",
       "         0.00000000e+00,  0.00000000e+00,  0.00000000e+00],\n",
       "       [ 1.23385214e-04,  4.26125738e-05, -8.57108244e-05, ...,\n",
       "         0.00000000e+00,  0.00000000e+00,  0.00000000e+00]])"
      ]
     },
     "execution_count": 109,
     "metadata": {},
     "output_type": "execute_result"
    }
   ],
   "source": [
    "s_traces_real.compute()"
   ]
  },
  {
   "cell_type": "code",
   "execution_count": 112,
   "metadata": {},
   "outputs": [],
   "source": [
    "import random\n",
    "\n",
    "# Convert Dask to NumPy (if not already done)\n",
    "X = s_traces_real.compute()\n",
    "y = add_label(X, defect_pos)\n",
    "\n",
    "# Sample 50 random indices with label 0\n",
    "zero_indices = np.where(y == 0)[0]\n",
    "sampled_zero_indices = random.sample(list(zero_indices), 50)\n",
    "\n",
    "# Get the positive example index\n",
    "positive_index = defect_pos + 20\n",
    "\n",
    "# Combine all indices\n",
    "all_indices = sampled_zero_indices + [positive_index]\n",
    "\n",
    "# Extract the corresponding samples and labels\n",
    "X_sample = X[all_indices]\n",
    "y_sample = y[all_indices]"
   ]
  },
  {
   "cell_type": "code",
   "execution_count": null,
   "metadata": {},
   "outputs": [],
   "source": [
    "X_sample = X_sample[:, :, np.newaxis]"
   ]
  },
  {
   "cell_type": "code",
   "execution_count": 113,
   "metadata": {},
   "outputs": [
    {
     "name": "stdout",
     "output_type": "stream",
     "text": [
      "Epoch 1/10\n"
     ]
    },
    {
     "name": "stderr",
     "output_type": "stream",
     "text": [
      "C:\\Users\\qq24422\\AppData\\Roaming\\Python\\Python312\\site-packages\\keras\\src\\layers\\rnn\\rnn.py:200: UserWarning: Do not pass an `input_shape`/`input_dim` argument to a layer. When using Sequential models, prefer using an `Input(shape)` object as the first layer in the model instead.\n",
      "  super().__init__(**kwargs)\n"
     ]
    },
    {
     "name": "stdout",
     "output_type": "stream",
     "text": [
      "\u001b[1m7/7\u001b[0m \u001b[32m━━━━━━━━━━━━━━━━━━━━\u001b[0m\u001b[37m\u001b[0m \u001b[1m4s\u001b[0m 452ms/step - accuracy: 0.9894 - loss: 0.6924\n",
      "Epoch 2/10\n",
      "\u001b[1m7/7\u001b[0m \u001b[32m━━━━━━━━━━━━━━━━━━━━\u001b[0m\u001b[37m\u001b[0m \u001b[1m3s\u001b[0m 466ms/step - accuracy: 0.9855 - loss: 0.6890\n",
      "Epoch 3/10\n",
      "\u001b[1m7/7\u001b[0m \u001b[32m━━━━━━━━━━━━━━━━━━━━\u001b[0m\u001b[37m\u001b[0m \u001b[1m3s\u001b[0m 441ms/step - accuracy: 0.9894 - loss: 0.6856\n",
      "Epoch 4/10\n",
      "\u001b[1m7/7\u001b[0m \u001b[32m━━━━━━━━━━━━━━━━━━━━\u001b[0m\u001b[37m\u001b[0m \u001b[1m3s\u001b[0m 430ms/step - accuracy: 0.9724 - loss: 0.6826\n",
      "Epoch 5/10\n",
      "\u001b[1m7/7\u001b[0m \u001b[32m━━━━━━━━━━━━━━━━━━━━\u001b[0m\u001b[37m\u001b[0m \u001b[1m3s\u001b[0m 444ms/step - accuracy: 0.9724 - loss: 0.6794\n",
      "Epoch 6/10\n",
      "\u001b[1m7/7\u001b[0m \u001b[32m━━━━━━━━━━━━━━━━━━━━\u001b[0m\u001b[37m\u001b[0m \u001b[1m3s\u001b[0m 440ms/step - accuracy: 0.9855 - loss: 0.6757\n",
      "Epoch 7/10\n",
      "\u001b[1m7/7\u001b[0m \u001b[32m━━━━━━━━━━━━━━━━━━━━\u001b[0m\u001b[37m\u001b[0m \u001b[1m4s\u001b[0m 605ms/step - accuracy: 0.9894 - loss: 0.6722\n",
      "Epoch 8/10\n",
      "\u001b[1m7/7\u001b[0m \u001b[32m━━━━━━━━━━━━━━━━━━━━\u001b[0m\u001b[37m\u001b[0m \u001b[1m8s\u001b[0m 1s/step - accuracy: 0.9568 - loss: 0.6705\n",
      "Epoch 9/10\n",
      "\u001b[1m7/7\u001b[0m \u001b[32m━━━━━━━━━━━━━━━━━━━━\u001b[0m\u001b[37m\u001b[0m \u001b[1m7s\u001b[0m 981ms/step - accuracy: 0.9568 - loss: 0.6674\n",
      "Epoch 10/10\n",
      "\u001b[1m7/7\u001b[0m \u001b[32m━━━━━━━━━━━━━━━━━━━━\u001b[0m\u001b[37m\u001b[0m \u001b[1m5s\u001b[0m 617ms/step - accuracy: 0.9855 - loss: 0.6626\n"
     ]
    },
    {
     "data": {
      "text/plain": [
       "<keras.src.callbacks.history.History at 0x226ee9e9310>"
      ]
     },
     "execution_count": 113,
     "metadata": {},
     "output_type": "execute_result"
    }
   ],
   "source": [
    "from tensorflow.keras.models import Sequential\n",
    "from tensorflow.keras.layers import LSTM, Dense, Dropout\n",
    "\n",
    "model = Sequential([\n",
    "    LSTM(64, input_shape=(X_sample.shape[1], 1), return_sequences=False),\n",
    "    Dropout(0.3),\n",
    "    Dense(32, activation='relu'),\n",
    "    Dense(1, activation='sigmoid')  # Binary classification\n",
    "])\n",
    "\n",
    "model.compile(optimizer='adam', loss='binary_crossentropy', metrics=['accuracy'])\n",
    "\n",
    "# Train\n",
    "model.fit(X_sample, y_sample, epochs=10, batch_size=8, verbose=1)"
   ]
  },
  {
   "cell_type": "code",
   "execution_count": 114,
   "metadata": {},
   "outputs": [
    {
     "name": "stdout",
     "output_type": "stream",
     "text": [
      "\u001b[1m1/1\u001b[0m \u001b[32m━━━━━━━━━━━━━━━━━━━━\u001b[0m\u001b[37m\u001b[0m \u001b[1m0s\u001b[0m 220ms/step\n",
      "Row -10: Probability=0.4827, Predicted Label=0\n",
      "Row -9: Probability=0.4827, Predicted Label=0\n",
      "Row -8: Probability=0.4827, Predicted Label=0\n",
      "Row -7: Probability=0.4827, Predicted Label=0\n",
      "Row -6: Probability=0.4827, Predicted Label=0\n",
      "Row -5: Probability=0.4827, Predicted Label=0\n",
      "Row -4: Probability=0.4827, Predicted Label=0\n",
      "Row -3: Probability=0.4827, Predicted Label=0\n",
      "Row -2: Probability=0.4827, Predicted Label=0\n",
      "Row -1: Probability=0.4827, Predicted Label=0\n"
     ]
    }
   ],
   "source": [
    "X_full = s_traces_real.compute()\n",
    "\n",
    "# Take the last 10 rows\n",
    "X_test = X_full[-10:]  # Shape: (10, time_steps)\n",
    "\n",
    "X_test = X_test[:, :, np.newaxis]\n",
    "y_pred = model.predict(X_test)\n",
    "y_class = (y_pred > 0.5).astype(int)\n",
    "for i, (prob, label) in enumerate(zip(y_pred, y_class)):\n",
    "    print(f\"Row {-10+i}: Probability={prob[0]:.4f}, Predicted Label={label[0]}\")"
   ]
  },
  {
   "cell_type": "code",
   "execution_count": null,
   "metadata": {},
   "outputs": [],
   "source": []
  }
 ],
 "metadata": {
  "kernelspec": {
   "display_name": "base",
   "language": "python",
   "name": "python3"
  },
  "language_info": {
   "codemirror_mode": {
    "name": "ipython",
    "version": 3
   },
   "file_extension": ".py",
   "mimetype": "text/x-python",
   "name": "python",
   "nbconvert_exporter": "python",
   "pygments_lexer": "ipython3",
   "version": "3.12.7"
  }
 },
 "nbformat": 4,
 "nbformat_minor": 2
}
